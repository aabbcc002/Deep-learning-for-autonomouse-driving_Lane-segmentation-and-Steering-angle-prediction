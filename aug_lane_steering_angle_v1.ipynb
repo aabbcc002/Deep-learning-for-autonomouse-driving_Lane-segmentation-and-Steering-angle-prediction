{
 "cells": [
  {
   "cell_type": "markdown",
   "metadata": {},
   "source": [
    "# New Steering Prediction Model by training Cascaded CNNs instance segmentation image with image augmentation and limiting angle range "
   ]
  },
  {
   "cell_type": "markdown",
   "metadata": {},
   "source": [
    "## Environment Setup"
   ]
  },
  {
   "cell_type": "code",
   "execution_count": 2,
   "metadata": {
    "colab": {
     "base_uri": "https://localhost:8080/"
    },
    "id": "Y1Czf7KW5VhB",
    "outputId": "cd86d37c-111d-4242-f915-50c1ff3dcc89"
   },
   "outputs": [
    {
     "name": "stdout",
     "output_type": "stream",
     "text": [
      "tf.__version__: 2.6.0\n",
      "keras.__version__: 2.6.0\n"
     ]
    }
   ],
   "source": [
    "import os\n",
    "import random\n",
    "import fnmatch\n",
    "import datetime\n",
    "import pickle\n",
    "\n",
    "import numpy as np\n",
    "np.set_printoptions(formatter={'float_kind':lambda x: \"%.4f\" % x})\n",
    "\n",
    "import pandas as pd\n",
    "pd.set_option('display.width', 300)\n",
    "pd.set_option('display.float_format', '{:,.4f}'.format)\n",
    "pd.set_option('display.max_colwidth', 200)\n",
    "\n",
    "import tensorflow as tf\n",
    "import keras\n",
    "from tensorflow.keras.models import Sequential \n",
    "from tensorflow.keras.layers import Conv2D, MaxPool2D, Dropout, Flatten, Dense\n",
    "from tensorflow.keras.optimizers import Adam\n",
    "from tensorflow.keras.models import load_model\n",
    "print( f'tf.__version__: {tf.__version__}' )\n",
    "print( f'keras.__version__: {keras.__version__}' )\n",
    "\n",
    "from sklearn.utils import shuffle\n",
    "from sklearn.model_selection import train_test_split\n",
    "\n",
    "\n",
    "import matplotlib.pyplot as plt\n",
    "import matplotlib.image as mpimg\n",
    "%matplotlib inline\n",
    "from PIL import Image\n",
    "import cv2\n",
    "from imgaug import augmenters as img_aug\n"
   ]
  },
  {
   "cell_type": "markdown",
   "metadata": {},
   "source": [
    "## Data and path preparation"
   ]
  },
  {
   "cell_type": "code",
   "execution_count": 3,
   "metadata": {
    "id": "0owHgoTL5k5F"
   },
   "outputs": [],
   "source": [
    "data_dir = [\"../ccnn_output_sullychen\",\"../lanenet_output_sullychen\"]\n",
    "sublist = ['/binary_image/','/instance_image/']\n",
    "#img_path_list = os.listdir(data_dir+\"/instance_image\")\n",
    "imgtxt_list,cb_list,ci_list,lb_list,li_list,o_list = [],[],[],[],[],[]\n",
    "steer_angle_list = []\n",
    "\n",
    "with open('../SullyChen/data.txt') as f:\n",
    "    lines = f.readlines()\n",
    "f.close()\n",
    "for i in lines:\n",
    "    steer_angle_list.append(float(i.split()[1][0:5]))\n",
    "    imgtxt_list.append(i[0:i.find('.jpg')+4])\n",
    "    cb_list.append(data_dir[0]+sublist[0]+i[0:i.find('.jpg')+4])\n",
    "    ci_list.append(data_dir[0]+sublist[1]+i[0:i.find('.jpg')+4])\n",
    "    lb_list.append(data_dir[1]+sublist[0]+i[0:i.find('.jpg')+4])\n",
    "    li_list.append(data_dir[1]+sublist[1]+i[0:i.find('.jpg')+4])\n",
    "    o_list.append('../SullyChen/data/'+i[0:i.find('.jpg')+4])"
   ]
  },
  {
   "cell_type": "code",
   "execution_count": 8,
   "metadata": {},
   "outputs": [],
   "source": [
    "def addp(x):\n",
    "    return x[:-4]+'_p'+x[-4:]\n",
    "def addz(x):\n",
    "    return x[:-4]+'_z'+x[-4:]\n",
    "def addbr(x):\n",
    "    return x[:-4]+'_br'+x[-4:]\n",
    "def addbl(x):\n",
    "    return x[:-4]+'_bl'+x[-4:]\n",
    "def addf(x):\n",
    "    return x[:-4]+'_f'+x[-4:]\n",
    "\n",
    "#Here means combining two image augmentation technique\n",
    "#e.g.performing pan and adjust brightness\n",
    "def addpbr(x):\n",
    "    return x[:-4]+'_pbr'+x[-4:]\n",
    "def addzbl(x):\n",
    "    return x[:-4]+'_zbl'+x[-4:]\n",
    "    \n",
    "def addfp(x):\n",
    "    return x[:-4]+'_fp'+x[-4:]\n",
    "def addfz(x):\n",
    "    return x[:-4]+'_fz'+x[-4:]\n",
    "def addfbr(x):\n",
    "    return x[:-4]+'_fbr'+x[-4:]\n",
    "def addfbl(x):\n",
    "    return x[:-4]+'_fbl'+x[-4:]\n",
    "def flipangle(x):\n",
    "    return x*-1"
   ]
  },
  {
   "cell_type": "code",
   "execution_count": 20,
   "metadata": {},
   "outputs": [],
   "source": [
    "df = pd.DataFrame()\n",
    "df['Imagepath'] = ci_list\n",
    "df['Angle'] = steer_angle_list"
   ]
  },
  {
   "cell_type": "markdown",
   "metadata": {},
   "source": [
    "## Down sampling and tuning of distribution of angles"
   ]
  },
  {
   "cell_type": "code",
   "execution_count": 21,
   "metadata": {},
   "outputs": [
    {
     "name": "stderr",
     "output_type": "stream",
     "text": [
      "/tmp/.tyh002/ipykernel_8652/148699289.py:1: UserWarning: Boolean Series key will be reindexed to match DataFrame index.\n",
      "  df_try0 = df[df['Angle']<2][df['Angle']>-1].sample(n=1000)\n",
      "/tmp/.tyh002/ipykernel_8652/148699289.py:2: UserWarning: Boolean Series key will be reindexed to match DataFrame index.\n",
      "  df_try1 = df[df['Angle']<=-1][df['Angle']>-5].append(df[df['Angle']>=2][df['Angle']<5]).sample(n=5000)\n",
      "/tmp/.tyh002/ipykernel_8652/148699289.py:3: UserWarning: Boolean Series key will be reindexed to match DataFrame index.\n",
      "  df_try2 = df[df['Angle']<=-5][df['Angle']>-20].append(df[df['Angle']>=5][df['Angle']<20]).sample(n=15000)\n",
      "/tmp/.tyh002/ipykernel_8652/148699289.py:4: UserWarning: Boolean Series key will be reindexed to match DataFrame index.\n",
      "  df_try3 = df[df['Angle']<=-20][df['Angle']>-60].append(df[df['Angle']>=20][df['Angle']<60])\n",
      "/tmp/.tyh002/ipykernel_8652/148699289.py:5: UserWarning: Boolean Series key will be reindexed to match DataFrame index.\n",
      "  df_try4 = df[df['Angle']<=-60][df['Angle']>-90].append(df[df['Angle']>=60][df['Angle']<90])\n"
     ]
    }
   ],
   "source": [
    "df_try0 = df[df['Angle']<2][df['Angle']>-1].sample(n=1000)\n",
    "df_try1 = df[df['Angle']<=-1][df['Angle']>-5].append(df[df['Angle']>=2][df['Angle']<5]).sample(n=5000)\n",
    "df_try2 = df[df['Angle']<=-5][df['Angle']>-20].append(df[df['Angle']>=5][df['Angle']<20]).sample(n=15000)\n",
    "df_try3 = df[df['Angle']<=-20][df['Angle']>-60].append(df[df['Angle']>=20][df['Angle']<60])\n",
    "df_try4 = df[df['Angle']<=-60][df['Angle']>-90].append(df[df['Angle']>=60][df['Angle']<90])\n",
    "df_temp = pd.concat([df_try0,df_try1,df_try2,df_try3,df_try4]) #29637\n",
    "\n",
    "df_try3 = pd.concat([df_try3,df_try3,df_try3])\n",
    "df_try4 = pd.concat([df_try4,df_try4,df_try4,df_try4,df_try4])"
   ]
  },
  {
   "cell_type": "code",
   "execution_count": 22,
   "metadata": {},
   "outputs": [],
   "source": [
    "df_try = pd.concat([df_temp,df_try3,df_try4]).reset_index().drop(columns='index')"
   ]
  },
  {
   "cell_type": "code",
   "execution_count": 7,
   "metadata": {},
   "outputs": [
    {
     "name": "stderr",
     "output_type": "stream",
     "text": [
      "/tmp/.tyh002/ipykernel_24606/283746630.py:1: UserWarning: Boolean Series key will be reindexed to match DataFrame index.\n",
      "  df[df['Angle']>=2][df['Angle']<5]['Imagepath'].apply(addp)\n"
     ]
    },
    {
     "data": {
      "text/plain": [
       "54          ../ccnn_output_sullychen/instance_image/54_p.jpg\n",
       "55          ../ccnn_output_sullychen/instance_image/55_p.jpg\n",
       "56          ../ccnn_output_sullychen/instance_image/56_p.jpg\n",
       "57          ../ccnn_output_sullychen/instance_image/57_p.jpg\n",
       "58          ../ccnn_output_sullychen/instance_image/58_p.jpg\n",
       "                                ...                         \n",
       "63681    ../ccnn_output_sullychen/instance_image/63681_p.jpg\n",
       "63727    ../ccnn_output_sullychen/instance_image/63727_p.jpg\n",
       "63728    ../ccnn_output_sullychen/instance_image/63728_p.jpg\n",
       "63729    ../ccnn_output_sullychen/instance_image/63729_p.jpg\n",
       "63730    ../ccnn_output_sullychen/instance_image/63730_p.jpg\n",
       "Name: Imagepath, Length: 10259, dtype: object"
      ]
     },
     "execution_count": 7,
     "metadata": {},
     "output_type": "execute_result"
    }
   ],
   "source": [
    "#Sample output of path editing\n",
    "#During training process, when it read the path that contains '_p','_z','_bl','_br', \n",
    "#it will perform image augmentation of the path without the adding feature with correspoonding image augmentation function.\n",
    "df[df['Angle']>=2][df['Angle']<5]['Imagepath'].apply(addp)"
   ]
  },
  {
   "cell_type": "code",
   "execution_count": 23,
   "metadata": {},
   "outputs": [],
   "source": [
    "df_try.loc[29637:36515,'Imagepath']= df_try.loc[29637:36515,'Imagepath'].apply(addz)\n",
    "df_try.loc[36516:43394,'Imagepath']= df_try.loc[36516:43394,'Imagepath'].apply(addbl)\n",
    "df_try.loc[43395:50273,'Imagepath']= df_try.loc[43395:50273,'Imagepath'].apply(addf)\n",
    "df_try.loc[43395:50273,'Angle']= df_try.loc[43395:50273,'Angle'].apply(flipangle)\n",
    "\n",
    "df_try.loc[50274:52032,'Imagepath']= df_try.loc[50274:52032,'Imagepath'].apply(addz)\n",
    "df_try.loc[52033:53790,'Imagepath']= df_try.loc[52033:53790,'Imagepath'].apply(addbl)\n",
    "df_try.loc[53791:55548,'Imagepath']= df_try.loc[53791:55548,'Imagepath'].apply(addp)\n",
    "df_try.loc[55549:57306,'Imagepath']= df_try.loc[55549:57306,'Imagepath'].apply(addbr)\n",
    "df_try.loc[57307:59064,'Imagepath']= df_try.loc[57307:59064,'Imagepath'].apply(addf)\n",
    "df_try.loc[57307:59064,'Angle']= df_try.loc[57307:59064,'Angle'].apply(flipangle)\n"
   ]
  },
  {
   "cell_type": "code",
   "execution_count": 11,
   "metadata": {},
   "outputs": [],
   "source": [
    "df_try.to_csv('../angle_prediction/csv_data/df_ci_aug.csv', index=False)\n"
   ]
  },
  {
   "cell_type": "code",
   "execution_count": 9,
   "metadata": {},
   "outputs": [],
   "source": [
    "try_list = list(df_try['Imagepath'])\n",
    "try_angle = list(df_try['Angle'])"
   ]
  },
  {
   "cell_type": "code",
   "execution_count": 24,
   "metadata": {},
   "outputs": [],
   "source": [
    "aug_ci_list = list(df_try['Imagepath'])\n",
    "aug_ci_angle = list(df_try['Angle'])"
   ]
  },
  {
   "cell_type": "code",
   "execution_count": 13,
   "metadata": {},
   "outputs": [
    {
     "data": {
      "text/plain": [
       "'../ccnn_output_sullychen/instance_image/30935_z.jpg'"
      ]
     },
     "execution_count": 13,
     "metadata": {},
     "output_type": "execute_result"
    }
   ],
   "source": [
    "try_list[34135]"
   ]
  },
  {
   "cell_type": "code",
   "execution_count": 120,
   "metadata": {},
   "outputs": [
    {
     "name": "stdout",
     "output_type": "stream",
     "text": [
      "Imagepath    29637\n",
      "Angle        29637\n",
      "dtype: int64\n",
      "Imagepath    20637\n",
      "Angle        20637\n",
      "dtype: int64\n",
      "Imagepath    8790\n",
      "Angle        8790\n",
      "dtype: int64\n",
      "Imagepath    59064\n",
      "Angle        59064\n",
      "dtype: int64\n"
     ]
    }
   ],
   "source": [
    "print(df_temp.count())\n",
    "print(df_try3.count())\n",
    "print(df_try4.count())\n",
    "print(df_try.count())"
   ]
  },
  {
   "cell_type": "code",
   "execution_count": 119,
   "metadata": {},
   "outputs": [
    {
     "data": {
      "text/plain": [
       "(array([18.0000, 96.0000, 78.0000, 36.0000, 72.0000, 126.0000, 36.0000,\n",
       "        132.0000, 96.0000, 90.0000, 198.0000, 126.0000, 96.0000, 102.0000,\n",
       "        108.0000, 186.0000, 444.0000, 210.0000, 246.0000, 216.0000,\n",
       "        138.0000, 192.0000, 156.0000, 474.0000, 144.0000, 222.0000,\n",
       "        336.0000, 384.0000, 498.0000, 318.0000, 136.0000, 188.0000,\n",
       "        240.0000, 96.0000, 120.0000, 156.0000, 128.0000, 124.0000,\n",
       "        184.0000, 112.0000, 212.0000, 244.0000, 268.0000, 116.0000,\n",
       "        128.0000, 148.0000, 124.0000, 144.0000, 208.0000, 164.0000,\n",
       "        240.0000, 176.0000, 224.0000, 340.0000, 200.0000, 388.0000,\n",
       "        596.0000, 392.0000, 196.0000, 284.0000, 336.0000, 220.0000,\n",
       "        204.0000, 300.0000, 440.0000, 388.0000, 360.0000, 652.0000,\n",
       "        532.0000, 604.0000, 167.0000, 183.0000, 222.0000, 375.0000,\n",
       "        308.0000, 345.0000, 290.0000, 354.0000, 386.0000, 453.0000,\n",
       "        566.0000, 442.0000, 687.0000, 759.0000, 974.0000, 798.0000,\n",
       "        363.0000, 330.0000, 472.0000, 202.0000, 459.0000, 387.0000,\n",
       "        1080.0000, 1138.0000, 701.0000, 1140.0000, 658.0000, 573.0000,\n",
       "        763.0000, 1189.0000, 525.0000, 681.0000, 637.0000, 435.0000,\n",
       "        411.0000, 478.0000, 394.0000, 322.0000, 248.0000, 144.0000,\n",
       "        949.0000, 848.0000, 912.0000, 780.0000, 644.0000, 980.0000,\n",
       "        764.0000, 676.0000, 1196.0000, 936.0000, 868.0000, 320.0000,\n",
       "        264.0000, 332.0000, 236.0000, 360.0000, 388.0000, 204.0000,\n",
       "        336.0000, 400.0000, 312.0000, 396.0000, 164.0000, 344.0000,\n",
       "        224.0000, 440.0000, 372.0000, 384.0000, 296.0000, 264.0000,\n",
       "        152.0000, 216.0000, 132.0000, 260.0000, 140.0000, 188.0000,\n",
       "        148.0000, 100.0000, 132.0000, 100.0000, 218.0000, 288.0000,\n",
       "        282.0000, 330.0000, 162.0000, 144.0000, 246.0000, 258.0000,\n",
       "        324.0000, 252.0000, 306.0000, 102.0000, 108.0000, 162.0000,\n",
       "        36.0000, 108.0000, 114.0000, 54.0000, 90.0000, 84.0000, 150.0000,\n",
       "        102.0000, 174.0000, 120.0000, 174.0000, 48.0000, 288.0000, 60.0000,\n",
       "        180.0000, 18.0000]),\n",
       " array([-89.9000, -88.9019, -87.9039, -86.9058, -85.9078, -84.9097,\n",
       "        -83.9117, -82.9136, -81.9156, -80.9175, -79.9194, -78.9214,\n",
       "        -77.9233, -76.9253, -75.9272, -74.9292, -73.9311, -72.9331,\n",
       "        -71.9350, -70.9369, -69.9389, -68.9408, -67.9428, -66.9447,\n",
       "        -65.9467, -64.9486, -63.9506, -62.9525, -61.9544, -60.9564,\n",
       "        -59.9583, -58.9603, -57.9622, -56.9642, -55.9661, -54.9681,\n",
       "        -53.9700, -52.9719, -51.9739, -50.9758, -49.9778, -48.9797,\n",
       "        -47.9817, -46.9836, -45.9856, -44.9875, -43.9894, -42.9914,\n",
       "        -41.9933, -40.9953, -39.9972, -38.9992, -38.0011, -37.0031,\n",
       "        -36.0050, -35.0069, -34.0089, -33.0108, -32.0128, -31.0147,\n",
       "        -30.0167, -29.0186, -28.0206, -27.0225, -26.0244, -25.0264,\n",
       "        -24.0283, -23.0303, -22.0322, -21.0342, -20.0361, -19.0381,\n",
       "        -18.0400, -17.0419, -16.0439, -15.0458, -14.0478, -13.0497,\n",
       "        -12.0517, -11.0536, -10.0556, -9.0575, -8.0594, -7.0614, -6.0633,\n",
       "        -5.0653, -4.0672, -3.0692, -2.0711, -1.0731, -0.0750, 0.9231,\n",
       "        1.9211, 2.9192, 3.9172, 4.9153, 5.9133, 6.9114, 7.9094, 8.9075,\n",
       "        9.9056, 10.9036, 11.9017, 12.8997, 13.8978, 14.8958, 15.8939,\n",
       "        16.8919, 17.8900, 18.8881, 19.8861, 20.8842, 21.8822, 22.8803,\n",
       "        23.8783, 24.8764, 25.8744, 26.8725, 27.8706, 28.8686, 29.8667,\n",
       "        30.8647, 31.8628, 32.8608, 33.8589, 34.8569, 35.8550, 36.8531,\n",
       "        37.8511, 38.8492, 39.8472, 40.8453, 41.8433, 42.8414, 43.8394,\n",
       "        44.8375, 45.8356, 46.8336, 47.8317, 48.8297, 49.8278, 50.8258,\n",
       "        51.8239, 52.8219, 53.8200, 54.8181, 55.8161, 56.8142, 57.8122,\n",
       "        58.8103, 59.8083, 60.8064, 61.8044, 62.8025, 63.8006, 64.7986,\n",
       "        65.7967, 66.7947, 67.7928, 68.7908, 69.7889, 70.7869, 71.7850,\n",
       "        72.7831, 73.7811, 74.7792, 75.7772, 76.7753, 77.7733, 78.7714,\n",
       "        79.7694, 80.7675, 81.7656, 82.7636, 83.7617, 84.7597, 85.7578,\n",
       "        86.7558, 87.7539, 88.7519, 89.7500]),\n",
       " <BarContainer object of 180 artists>)"
      ]
     },
     "execution_count": 119,
     "metadata": {},
     "output_type": "execute_result"
    },
    {
     "data": {
      "image/png": "[encoded data removed]",
      "text/plain": [
       "<Figure size 864x576 with 1 Axes>"
      ]
     },
     "metadata": {
      "needs_background": "light"
     },
     "output_type": "display_data"
    }
   ],
   "source": [
    "#New angle distribution\n",
    "fig, axes = plt.subplots(1,1, figsize=(12,8))\n",
    "axes.cla()\n",
    "num_of_bins = 180\n",
    "samples_per_bin = 100\n",
    "hist, bins = np.histogram(df_try['Angle'], num_of_bins)\n",
    "\n",
    "axes.hist(df_try['Angle'], bins=num_of_bins, width=1, color='blue')"
   ]
  },
  {
   "cell_type": "markdown",
   "metadata": {},
   "source": [
    "## Training of model"
   ]
  },
  {
   "cell_type": "markdown",
   "metadata": {},
   "source": [
    "### train-test-valid data split"
   ]
  },
  {
   "cell_type": "markdown",
   "metadata": {},
   "source": [
    "### Function to preprocessing data\n",
    "#### including:\n",
    "#### 1. Read data\n",
    "#### 2. Preprocess data with removing height, converting to YUV space, resize and normalizing\n",
    "#### 3. Batch Data generation\n",
    "#### 4. Image augmentation functions"
   ]
  },
  {
   "cell_type": "code",
   "execution_count": 25,
   "metadata": {},
   "outputs": [],
   "source": [
    "random.seed(34)\n",
    "X_train_ci_aug, X_test_ci_aug, y_train_ci_aug, y_test_ci_aug = train_test_split(aug_ci_list, aug_ci_angle, test_size=0.15,random_state=34)\n",
    "X_train_ci_aug, X_valid_ci_aug, y_train_ci_aug, y_valid_ci_aug = train_test_split(X_train_ci_aug, y_train_ci_aug, test_size=3/17, random_state=34)\n",
    "ci_aug_testdf = pd.DataFrame()\n",
    "ci_aug_testdf['Imagepath'] = X_test_ci_aug\n",
    "ci_aug_testdf['Angle'] = y_test_ci_aug\n",
    "ci_aug_testdf.to_csv('../angle_prediction/csv_data/testdf_ci_aug.csv', index=False)\n"
   ]
  },
  {
   "cell_type": "code",
   "execution_count": 13,
   "metadata": {
    "id": "X4wa_OeFd2-L"
   },
   "outputs": [],
   "source": [
    "def my_imread(image_path):\n",
    "    image = cv2.imread(image_path)\n",
    "    image = cv2.cvtColor(image, cv2.COLOR_BGR2RGB)\n",
    "    return image"
   ]
  },
  {
   "cell_type": "code",
   "execution_count": 14,
   "metadata": {
    "id": "-647LmS1d3Au"
   },
   "outputs": [],
   "source": [
    "# image augmentation:\n",
    "\n",
    "def zoom(image):\n",
    "    zoom = img_aug.Affine(scale=(1, 1.25))  # zoom from 100% (no zoom) to 125%\n",
    "    image = zoom.augment_image(image)\n",
    "    return image\n",
    "\n",
    "def pan(image):\n",
    "    # pan left / right / up / down about 10%\n",
    "    pan = img_aug.Affine(translate_percent= {\"x\" : (-0.1, 0.1), \"y\": (-0.1, 0.1)})\n",
    "    image = pan.augment_image(image)\n",
    "    return image\n",
    "\n",
    "def adjust_brightness(image):\n",
    "    # increase or decrease brightness by 30%\n",
    "    brightness = img_aug.Multiply((0.7, 1.3))\n",
    "    image = brightness.augment_image(image)\n",
    "    return image\n",
    "\n",
    "def blur(image):\n",
    "    kernel_size = random.randint(1, 5) \n",
    "    image = cv2.blur(image,(kernel_size, kernel_size))\n",
    "   \n",
    "    return image\n",
    "\n",
    "def flip(image):\n",
    "    # randomly flip horizon\n",
    "    image = cv2.flip(image,1)\n",
    "\n",
    "    return image\n"
   ]
  },
  {
   "cell_type": "code",
   "execution_count": 2,
   "metadata": {
    "colab": {
     "base_uri": "https://localhost:8080/",
     "height": 222
    },
    "id": "um42tOa-d3Rx",
    "outputId": "4db2e1a0-5fa3-4ac5-8620-6b5728b335d8"
   },
   "outputs": [],
   "source": [
    "def img_preprocess(image):\n",
    "    height, _, _ = image.shape\n",
    "    image = image[int(height/2):,:,:]  # remove top 0.5 of the image, as it is not relavant for lane following\n",
    "    image = cv2.cvtColor(image, cv2.COLOR_RGB2YUV) # suggested by Nvidia model\n",
    "    image = cv2.GaussianBlur(image, (3,3), 0)\n",
    "    image = cv2.resize(image, (200,66)) # input image size (200,66) Nvidia model\n",
    "    image = image / 255 # normalizing\n",
    "    return image\n"
   ]
  },
  {
   "cell_type": "code",
   "execution_count": 16,
   "metadata": {},
   "outputs": [],
   "source": [
    "def build_model():\n",
    "    model = Sequential()\n",
    "\n",
    "    model.add(Conv2D(24, (5, 5), strides=(2, 2), input_shape=(66, 200, 3), activation='elu')) \n",
    "    model.add(Conv2D(36, (5, 5), strides=(2, 2), activation='elu')) \n",
    "    model.add(Conv2D(48, (5, 5), strides=(2, 2), activation='elu')) \n",
    "    model.add(Conv2D(64, (3, 3), activation='elu')) \n",
    "    model.add(Dropout(0.2))\n",
    "    model.add(Conv2D(64, (3, 3), activation='elu')) \n",
    "\n",
    "    model.add(Flatten())\n",
    "    model.add(Dropout(0.2)) \n",
    "    model.add(Dense(100, activation='elu'))\n",
    "    model.add(Dense(50, activation='elu'))\n",
    "    model.add(Dense(10, activation='elu'))\n",
    "    \n",
    "    # output layer: steering angle (0 is straight, <0 turn left, >0 turn right)\n",
    "    model.add(Dense(1)) \n",
    "\n",
    "    optimizer = Adam(lr=1e-3)\n",
    "    model.compile(loss='mse', optimizer=optimizer)\n",
    "    \n",
    "    return model"
   ]
  },
  {
   "cell_type": "code",
   "execution_count": 43,
   "metadata": {
    "colab": {
     "base_uri": "https://localhost:8080/"
    },
    "id": "BP69S01NeIBq",
    "outputId": "2e8bc1ea-e785-43d7-9558-5d2e92d3b984"
   },
   "outputs": [
    {
     "name": "stdout",
     "output_type": "stream",
     "text": [
      "Model: \"sequential_1\"\n",
      "_________________________________________________________________\n",
      "Layer (type)                 Output Shape              Param #   \n",
      "=================================================================\n",
      "conv2d_2 (Conv2D)            (None, 31, 98, 24)        1824      \n",
      "_________________________________________________________________\n",
      "conv2d_3 (Conv2D)            (None, 14, 47, 36)        21636     \n",
      "_________________________________________________________________\n",
      "conv2d_4 (Conv2D)            (None, 5, 22, 48)         43248     \n",
      "_________________________________________________________________\n",
      "conv2d_5 (Conv2D)            (None, 3, 20, 64)         27712     \n",
      "_________________________________________________________________\n",
      "dropout_2 (Dropout)          (None, 3, 20, 64)         0         \n",
      "_________________________________________________________________\n",
      "conv2d_6 (Conv2D)            (None, 1, 18, 64)         36928     \n",
      "_________________________________________________________________\n",
      "flatten_1 (Flatten)          (None, 1152)              0         \n",
      "_________________________________________________________________\n",
      "dropout_3 (Dropout)          (None, 1152)              0         \n",
      "_________________________________________________________________\n",
      "dense_3 (Dense)              (None, 100)               115300    \n",
      "_________________________________________________________________\n",
      "dense_4 (Dense)              (None, 50)                5050      \n",
      "_________________________________________________________________\n",
      "dense_5 (Dense)              (None, 10)                510       \n",
      "_________________________________________________________________\n",
      "dense_6 (Dense)              (None, 1)                 11        \n",
      "=================================================================\n",
      "Total params: 252,219\n",
      "Trainable params: 252,219\n",
      "Non-trainable params: 0\n",
      "_________________________________________________________________\n",
      "None\n"
     ]
    }
   ],
   "source": [
    "print(model.summary())"
   ]
  },
  {
   "cell_type": "code",
   "execution_count": 15,
   "metadata": {},
   "outputs": [],
   "source": [
    "def image_gen_original(image_paths, steering_angles, batch_size):\n",
    "    while True:\n",
    "        batch_images = []\n",
    "        batch_steering_angles = []\n",
    "        \n",
    "        for i in range(batch_size):\n",
    "            random_index = random.randint(0, len(image_paths) - 1)\n",
    "            image_path = image_paths[random_index]\n",
    "            image = my_imread(image_paths[random_index])\n",
    "            steering_angle = steering_angles[random_index]\n",
    "             \n",
    "            image = img_preprocess(image)\n",
    "            batch_images.append(image)\n",
    "            batch_steering_angles.append(steering_angle)\n",
    "            \n",
    "        yield( np.asarray(batch_images), np.asarray(batch_steering_angles))\n",
    "            \n",
    "            "
   ]
  },
  {
   "cell_type": "code",
   "execution_count": 17,
   "metadata": {
    "id": "IK-ra9wgeIFV"
   },
   "outputs": [],
   "source": [
    "def image_data_generator_0(image_paths, steering_angles, batch_size, is_training):\n",
    "    while True:\n",
    "        batch_images = []\n",
    "        batch_steering_angles = []\n",
    "        \n",
    "        for i in range(batch_size):\n",
    "            random_index = random.randint(0, len(image_paths) - 1)\n",
    "            image_path = image_paths[random_index]\n",
    "            steering_angle = steering_angles[random_index]\n",
    "            if is_training:\n",
    "                if '_z' in image_path:\n",
    "                    image = my_imread(image_path[:-6]+image_path[-4:])\n",
    "                    image = zoom(image)\n",
    "                elif '_p' in image_path:\n",
    "                    image = my_imread(image_path[:-6]+image_path[-4:])\n",
    "                    image = pan(image)\n",
    "                elif '_bl' in image_path:\n",
    "                    image = my_imread(image_path[:-7]+image_path[-4:])\n",
    "                    image = blur(image)\n",
    "                elif '_br' in image_path:\n",
    "                    image = my_imread(image_path[:-7]+image_path[-4:])\n",
    "                    image = adjust_brightness(image)\n",
    "                elif '_f' in image_path:\n",
    "                    image = my_imread(image_path[:-6]+image_path[-4:])\n",
    "                    image = flip(image)\n",
    "                else:\n",
    "                    image = my_imread(image_paths[random_index])\n",
    "            else:\n",
    "                image = my_imread(image_paths[random_index])\n",
    "            image = img_preprocess(image)\n",
    "            batch_images.append(image)\n",
    "            batch_steering_angles.append(steering_angle)\n",
    "            \n",
    "        yield( np.asarray(batch_images), np.asarray(batch_steering_angles))\n",
    "            \n",
    "            "
   ]
  },
  {
   "cell_type": "code",
   "execution_count": 30,
   "metadata": {
    "colab": {
     "base_uri": "https://localhost:8080/",
     "height": 1000
    },
    "id": "GQ-vr3TRfccC",
    "outputId": "27b02d0d-c542-459d-918f-92094e7858cc"
   },
   "outputs": [
    {
     "name": "stdout",
     "output_type": "stream",
     "text": [
      "Epoch 1/10\n",
      "300/300 [==============================] - 3421s 11s/step - loss: 751.2524 - val_loss: 257.9659\n",
      "\n",
      "Epoch 00001: val_loss improved from inf to 257.96585, saving model to ../angle_prediction/aug/lane_keeping_angle_ci.h5\n",
      "Epoch 2/10\n",
      "300/300 [==============================] - 3244s 11s/step - loss: 179.8792 - val_loss: 116.9700\n",
      "\n",
      "Epoch 00002: val_loss improved from 257.96585 to 116.97003, saving model to ../angle_prediction/aug/lane_keeping_angle_ci.h5\n",
      "Epoch 3/10\n",
      "300/300 [==============================] - 3258s 11s/step - loss: 101.3368 - val_loss: 76.0559\n",
      "\n",
      "Epoch 00003: val_loss improved from 116.97003 to 76.05589, saving model to ../angle_prediction/aug/lane_keeping_angle_ci.h5\n",
      "Epoch 4/10\n",
      "300/300 [==============================] - 3292s 11s/step - loss: 71.5405 - val_loss: 56.2775\n",
      "\n",
      "Epoch 00004: val_loss improved from 76.05589 to 56.27754, saving model to ../angle_prediction/aug/lane_keeping_angle_ci.h5\n",
      "Epoch 5/10\n",
      "300/300 [==============================] - 3292s 11s/step - loss: 56.3803 - val_loss: 50.0700\n",
      "\n",
      "Epoch 00005: val_loss improved from 56.27754 to 50.06996, saving model to ../angle_prediction/aug/lane_keeping_angle_ci.h5\n",
      "Epoch 6/10\n",
      "300/300 [==============================] - 3289s 11s/step - loss: 46.7925 - val_loss: 38.2685\n",
      "\n",
      "Epoch 00006: val_loss improved from 50.06996 to 38.26848, saving model to ../angle_prediction/aug/lane_keeping_angle_ci.h5\n",
      "Epoch 7/10\n",
      "300/300 [==============================] - 3252s 11s/step - loss: 39.8949 - val_loss: 33.8736\n",
      "\n",
      "Epoch 00007: val_loss improved from 38.26848 to 33.87358, saving model to ../angle_prediction/aug/lane_keeping_angle_ci.h5\n",
      "Epoch 8/10\n",
      "300/300 [==============================] - 3245s 11s/step - loss: 35.6178 - val_loss: 31.6723\n",
      "\n",
      "Epoch 00008: val_loss improved from 33.87358 to 31.67229, saving model to ../angle_prediction/aug/lane_keeping_angle_ci.h5\n",
      "Epoch 9/10\n",
      "300/300 [==============================] - 3214s 11s/step - loss: 31.8117 - val_loss: 28.1679\n",
      "\n",
      "Epoch 00009: val_loss improved from 31.67229 to 28.16790, saving model to ../angle_prediction/aug/lane_keeping_angle_ci.h5\n",
      "Epoch 10/10\n",
      "300/300 [==============================] - 3202s 11s/step - loss: 29.0986 - val_loss: 25.6662\n",
      "\n",
      "Epoch 00010: val_loss improved from 28.16790 to 25.66620, saving model to ../angle_prediction/aug/lane_keeping_angle_ci.h5\n"
     ]
    }
   ],
   "source": [
    "model = build_model()\n",
    "model_dir = '../angle_prediction/aug/'\n",
    "checkpoint_callback = tf.keras.callbacks.ModelCheckpoint(filepath=os.path.join('../angle_prediction/aug/lane_keeping_angle_ci.h5'), verbose=1, save_best_only=True)\n",
    "\n",
    "history = model.fit_generator(image_data_generator_0(X_train_ci_aug, y_train_ci_aug, batch_size=1024,is_training =True),\n",
    "                              steps_per_epoch=300,\n",
    "                              epochs=10,\n",
    "                              validation_data = image_data_generator_0( X_valid_ci_aug, y_valid_ci_aug, batch_size=128,is_training =True),\n",
    "                              validation_steps=200,\n",
    "                              verbose=1,\n",
    "                              shuffle=1,\n",
    "                              callbacks=[checkpoint_callback])\n",
    "\n",
    "model.save(os.path.join(model_dir,'lane_navigation_final_aug_ci.h5'))\n",
    "\n",
    "history_path = os.path.join(model_dir,'history_aug_ci.pickle')\n",
    "with open(history_path, 'wb') as f:\n",
    "    pickle.dump(history.history, f, pickle.HIGHEST_PROTOCOL)\n"
   ]
  }
 ],
 "metadata": {
  "colab": {
   "name": "lane_steering angle_v1.ipynb",
   "provenance": []
  },
  "kernelspec": {
   "display_name": "Python 3 (ipykernel)",
   "language": "python",
   "name": "python3"
  },
  "language_info": {
   "codemirror_mode": {
    "name": "ipython",
    "version": 3
   },
   "file_extension": ".py",
   "mimetype": "text/x-python",
   "name": "python",
   "nbconvert_exporter": "python",
   "pygments_lexer": "ipython3",
   "version": "3.8.8"
  }
 },
 "nbformat": 4,
 "nbformat_minor": 4
}
